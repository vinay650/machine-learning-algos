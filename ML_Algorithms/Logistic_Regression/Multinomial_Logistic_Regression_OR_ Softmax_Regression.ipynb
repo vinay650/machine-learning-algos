{
 "cells": [
  {
   "cell_type": "code",
   "execution_count": 1,
   "metadata": {},
   "outputs": [],
   "source": [
    "import numpy as np\n",
    "import pandas as pd\n",
    "from sklearn.preprocessing import StandardScaler\n",
    "import math"
   ]
  },
  {
   "cell_type": "code",
   "execution_count": 2,
   "metadata": {},
   "outputs": [],
   "source": [
    "def get_prob(row,m):\n",
    "    k= m.dot(row.reshape(-1,1))\n",
    "    den=0\n",
    "    for i in range(k.shape[0]):\n",
    "        den=den+math.exp(k[i])\n",
    "    for i in range(k.shape[0]):\n",
    "        k[i]=math.exp(k[i])\n",
    "    return k/den"
   ]
  },
  {
   "cell_type": "code",
   "execution_count": 3,
   "metadata": {},
   "outputs": [],
   "source": [
    "def sigmoid(z):\n",
    "    return 1/(1+math.exp(-1*z))\n",
    "\n",
    "def prepare(x_train):\n",
    "    x_train['intercept']=1\n",
    "    scaler=StandardScaler()\n",
    "    scaler.fit(x_train)\n",
    "    x_train=scaler.transform(x_train)\n",
    "    x_train[:,-1]=1\n",
    "    return x_train"
   ]
  },
  {
   "cell_type": "code",
   "execution_count": 34,
   "metadata": {},
   "outputs": [],
   "source": [
    "def initialize_param(x,y):\n",
    "    m=np.zeros((pd.Series(y).unique().size,len(x[0])))\n",
    "    return m"
   ]
  },
  {
   "cell_type": "code",
   "execution_count": 5,
   "metadata": {},
   "outputs": [],
   "source": [
    "data=pd.read_csv('C:/Users/Amit/Downloads/iriscsv/Iris.csv',names=[1,2,3,4,'target'])\n",
    "data=data.iloc[1:,:]"
   ]
  },
  {
   "cell_type": "code",
   "execution_count": 6,
   "metadata": {},
   "outputs": [
    {
     "data": {
      "text/plain": [
       "Iris-virginica     50\n",
       "Iris-setosa        50\n",
       "Iris-versicolor    50\n",
       "Name: target, dtype: int64"
      ]
     },
     "execution_count": 6,
     "metadata": {},
     "output_type": "execute_result"
    }
   ],
   "source": [
    "data.target.value_counts()"
   ]
  },
  {
   "cell_type": "code",
   "execution_count": 7,
   "metadata": {},
   "outputs": [],
   "source": [
    "def f(n):\n",
    "    if n=='Iris-setosa':\n",
    "        return 0\n",
    "    elif n=='Iris-virginica':\n",
    "        return 1\n",
    "    else:\n",
    "        return 2\n",
    "data.target=data.target.apply(f)"
   ]
  },
  {
   "cell_type": "code",
   "execution_count": 9,
   "metadata": {},
   "outputs": [
    {
     "data": {
      "text/html": [
       "<div>\n",
       "<style scoped>\n",
       "    .dataframe tbody tr th:only-of-type {\n",
       "        vertical-align: middle;\n",
       "    }\n",
       "\n",
       "    .dataframe tbody tr th {\n",
       "        vertical-align: top;\n",
       "    }\n",
       "\n",
       "    .dataframe thead th {\n",
       "        text-align: right;\n",
       "    }\n",
       "</style>\n",
       "<table border=\"1\" class=\"dataframe\">\n",
       "  <thead>\n",
       "    <tr style=\"text-align: right;\">\n",
       "      <th></th>\n",
       "      <th>1</th>\n",
       "      <th>2</th>\n",
       "      <th>3</th>\n",
       "      <th>4</th>\n",
       "      <th>target</th>\n",
       "    </tr>\n",
       "  </thead>\n",
       "  <tbody>\n",
       "    <tr>\n",
       "      <th>1</th>\n",
       "      <td>5.1</td>\n",
       "      <td>3.5</td>\n",
       "      <td>1.4</td>\n",
       "      <td>0.2</td>\n",
       "      <td>0</td>\n",
       "    </tr>\n",
       "    <tr>\n",
       "      <th>2</th>\n",
       "      <td>4.9</td>\n",
       "      <td>3.0</td>\n",
       "      <td>1.4</td>\n",
       "      <td>0.2</td>\n",
       "      <td>0</td>\n",
       "    </tr>\n",
       "    <tr>\n",
       "      <th>3</th>\n",
       "      <td>4.7</td>\n",
       "      <td>3.2</td>\n",
       "      <td>1.3</td>\n",
       "      <td>0.2</td>\n",
       "      <td>0</td>\n",
       "    </tr>\n",
       "    <tr>\n",
       "      <th>4</th>\n",
       "      <td>4.6</td>\n",
       "      <td>3.1</td>\n",
       "      <td>1.5</td>\n",
       "      <td>0.2</td>\n",
       "      <td>0</td>\n",
       "    </tr>\n",
       "    <tr>\n",
       "      <th>5</th>\n",
       "      <td>5.0</td>\n",
       "      <td>3.6</td>\n",
       "      <td>1.4</td>\n",
       "      <td>0.2</td>\n",
       "      <td>0</td>\n",
       "    </tr>\n",
       "  </tbody>\n",
       "</table>\n",
       "</div>"
      ],
      "text/plain": [
       "     1    2    3    4  target\n",
       "1  5.1  3.5  1.4  0.2       0\n",
       "2  4.9  3.0  1.4  0.2       0\n",
       "3  4.7  3.2  1.3  0.2       0\n",
       "4  4.6  3.1  1.5  0.2       0\n",
       "5  5.0  3.6  1.4  0.2       0"
      ]
     },
     "execution_count": 9,
     "metadata": {},
     "output_type": "execute_result"
    }
   ],
   "source": [
    "data.head()"
   ]
  },
  {
   "cell_type": "code",
   "execution_count": 8,
   "metadata": {},
   "outputs": [],
   "source": [
    "\n",
    "x=data.iloc[:,:4]\n",
    "x=prepare(x)\n",
    "y=np.array(data.target)\n",
    "ohy=[]\n",
    "for i in range(len(y)):\n",
    "    k=np.zeros(3)\n",
    "    k[y[i]]=1\n",
    "    ohy.append(k)\n",
    "    "
   ]
  },
  {
   "cell_type": "code",
   "execution_count": 35,
   "metadata": {},
   "outputs": [],
   "source": [
    "m=initialize_param(x,y)"
   ]
  },
  {
   "cell_type": "code",
   "execution_count": 25,
   "metadata": {},
   "outputs": [],
   "source": [
    "def slope(x,ohy,k,m,j):\n",
    "    cost=0\n",
    "    for row in range(len(x)):\n",
    "        prob=get_prob(x[row],m)\n",
    "        cost=cost+(prob[k]-ohy[row][k])*x[row][j]\n",
    "    return cost"
   ]
  },
  {
   "cell_type": "code",
   "execution_count": 37,
   "metadata": {},
   "outputs": [
    {
     "name": "stdout",
     "output_type": "stream",
     "text": [
      "Enter alpha0.1\n",
      "Enter epochs100\n"
     ]
    }
   ],
   "source": [
    "learning_rate= float(input(\"Enter alpha\"))\n",
    "epochs=int(input(\"Enter epochs\"))\n",
    "\n",
    "for epoch in range(epochs):\n",
    "    for i in range(m.shape[0]):\n",
    "        for j in range(m[0].size):\n",
    "            m[i][j]=m[i][j]-learning_rate*slope(x,ohy,i,m,j)\n",
    "            "
   ]
  },
  {
   "cell_type": "code",
   "execution_count": 38,
   "metadata": {},
   "outputs": [
    {
     "name": "stdout",
     "output_type": "stream",
     "text": [
      "147\n"
     ]
    }
   ],
   "source": [
    "c=0\n",
    "for i in range(len(x)):\n",
    "    if get_prob(x[i],m).argmax()==y[i]:\n",
    "        c=c+1\n",
    "print(c)"
   ]
  }
 ],
 "metadata": {
  "kernelspec": {
   "display_name": "Python 3",
   "language": "python",
   "name": "python3"
  },
  "language_info": {
   "codemirror_mode": {
    "name": "ipython",
    "version": 3
   },
   "file_extension": ".py",
   "mimetype": "text/x-python",
   "name": "python",
   "nbconvert_exporter": "python",
   "pygments_lexer": "ipython3",
   "version": "3.7.6"
  }
 },
 "nbformat": 4,
 "nbformat_minor": 4
}
