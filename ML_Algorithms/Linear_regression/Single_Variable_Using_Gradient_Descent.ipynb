{
 "cells": [
  {
   "cell_type": "markdown",
   "metadata": {},
   "source": [
    "# For mathematics behind implementation please visit readme files :"
   ]
  },
  {
   "cell_type": "code",
   "execution_count": 59,
   "metadata": {},
   "outputs": [],
   "source": [
    "def cost(x,y,m,c):\n",
    "    return ((y-(m*x+c))**2).mean()\n",
    "\n",
    "def slope_m(x,y,m,c):\n",
    "    a=(y-(m*x+c))*-1*x\n",
    "    return (a*2).mean()\n",
    "\n",
    "def slope_c(x,y,m,c):\n",
    "    a=(y-(m*x+c))*-1\n",
    "    return (a*2).mean()\n",
    "\n",
    "def fit(x,y,number_of_iterations,learning_rate,m=0,c=0):\n",
    "    for iterator in range(number_of_iterations):\n",
    "        m=m-learning_rate*slope_m(x,y,m,c)\n",
    "        c=c-learning_rate*slope_c(x,y,m,c)\n",
    "    return m,c\n",
    "\n",
    "def predict(x,m,c):\n",
    "    return m*x+c\n",
    "\n",
    "def score(test_data,true_label,m,c):\n",
    "    pred=predict(test_data,m,c)\n",
    "    numerator=((pred-true_label)**2).sum()\n",
    "    denominator=((pred-pred.mean())**2).sum()\n",
    "    return 1-(numerator/denominator)"
   ]
  },
  {
   "cell_type": "code",
   "execution_count": 60,
   "metadata": {},
   "outputs": [],
   "source": [
    "data=np.array([1,2,3,4,5,6,7,8,9,10])\n",
    "label=np.array([3,6,9,12,15,18,21,24,27,30])\n",
    "m,c=fit(data,label,number_of_iterations=2000,learning_rate=0.01)"
   ]
  },
  {
   "cell_type": "code",
   "execution_count": 61,
   "metadata": {},
   "outputs": [
    {
     "data": {
      "text/plain": [
       "0.9999999999989465"
      ]
     },
     "execution_count": 61,
     "metadata": {},
     "output_type": "execute_result"
    }
   ],
   "source": [
    "score(data,label,m,c)"
   ]
  }
 ],
 "metadata": {
  "kernelspec": {
   "display_name": "Python 3",
   "language": "python",
   "name": "python3"
  },
  "language_info": {
   "codemirror_mode": {
    "name": "ipython",
    "version": 3
   },
   "file_extension": ".py",
   "mimetype": "text/x-python",
   "name": "python",
   "nbconvert_exporter": "python",
   "pygments_lexer": "ipython3",
   "version": "3.7.6"
  }
 },
 "nbformat": 4,
 "nbformat_minor": 4
}
