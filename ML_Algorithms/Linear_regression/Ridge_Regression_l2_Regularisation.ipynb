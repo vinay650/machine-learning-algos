{
 "cells": [
  {
   "cell_type": "code",
   "execution_count": 1,
   "metadata": {},
   "outputs": [],
   "source": [
    "import numpy as np\n",
    "import pandas as pd\n",
    "from sklearn.preprocessing import StandardScaler"
   ]
  },
  {
   "cell_type": "code",
   "execution_count": 2,
   "metadata": {},
   "outputs": [],
   "source": [
    "def prepare(x_train):\n",
    "    x_train['intercept']=1\n",
    "    scaler=StandardScaler()\n",
    "    scaler.fit(x_train)\n",
    "    x_train=scaler.transform(x_train)\n",
    "    x_train[:,-1]=1\n",
    "    return x_train"
   ]
  },
  {
   "cell_type": "code",
   "execution_count": 3,
   "metadata": {},
   "outputs": [],
   "source": [
    "def slope(x,y,j,m,L2_penalty):\n",
    "    c=0\n",
    "    n=len(x)\n",
    "    for i in range(n):\n",
    "        pred=0\n",
    "        for k in range(len(x[0])):\n",
    "            pred=pred+m[k]*x[i,k]\n",
    "        c=c+(y[i]-pred)*2*-1*x[i][j]\n",
    "    c=(c+L2_penalty*((2*m).sum()))/n\n",
    "    return c"
   ]
  },
  {
   "cell_type": "code",
   "execution_count": 4,
   "metadata": {},
   "outputs": [],
   "source": [
    "def predict(x,m):\n",
    "    yp=[]\n",
    "    n=len(x)\n",
    "    for i in range(n):\n",
    "            r=0\n",
    "            for k in range(len(m)):\n",
    "                r=r+m[k]*x[i,k]\n",
    "            yp.append(r)\n",
    "    return np.array(yp)"
   ]
  },
  {
   "cell_type": "code",
   "execution_count": 5,
   "metadata": {},
   "outputs": [],
   "source": [
    "data=pd.read_csv('C:/Users/Amit/Downloads/0000000000002419_training_ccpp_x_y_train.csv')\n",
    "x=data.iloc[:,:4]\n",
    "y=np.array(data.iloc[:,4])\n",
    "x=prepare(x)"
   ]
  },
  {
   "cell_type": "code",
   "execution_count": 6,
   "metadata": {},
   "outputs": [
    {
     "name": "stdout",
     "output_type": "stream",
     "text": [
      "Enter learning rate: 0.1\n",
      "Enter epochs: 25\n",
      "Enter regularisation factor: 0.3\n",
      "cost :  18.219796161927164\n",
      "cost :  12.002164610783163\n",
      "cost :  7.889084912589856\n",
      "cost :  5.186033652866347\n",
      "cost :  3.4166770102142516\n",
      "cost :  2.2608269696517556\n",
      "cost :  1.506101266387202\n",
      "cost :  1.0128717042903377\n",
      "cost :  0.6898784229246739\n",
      "cost :  0.47769660526736923\n",
      "cost :  0.3377140016740226\n",
      "cost :  0.24486456783635646\n",
      "cost :  0.18287448236885792\n",
      "cost :  0.1411677228422357\n",
      "cost :  0.11285861693933774\n",
      "cost :  0.09345224991848898\n",
      "cost :  0.08000405525170157\n",
      "cost :  0.07057652150716454\n",
      "cost :  0.0638878539154473\n",
      "cost :  0.05908455451924626\n",
      "cost :  0.05559398773055736\n",
      "cost :  0.053028594257644945\n",
      "cost :  0.05112348548435065\n",
      "cost :  0.04969564185313588\n",
      "cost :  0.048617120346512666\n"
     ]
    }
   ],
   "source": [
    "m  = np.zeros(len(x[0]))\n",
    "learning_rate= float(input(\"Enter learning rate: \"))\n",
    "epochs=int(input(\"Enter epochs: \"))\n",
    "L2_penalty=float(input(\"Enter regularisation factor: \"))\n",
    "\n",
    "for epoch in range(epochs):\n",
    "    for i in range(m.size):\n",
    "        m[i]=m[i]-learning_rate*slope(x,y,i,m,L2_penalty)\n",
    "    for i in range(len(x)):\n",
    "            r=0\n",
    "            c=0\n",
    "            for k in range(len(m)):\n",
    "                r=r+m[k]*x[i,k]\n",
    "            c=c+(y[i]-r)**2 + L2_penalty*((2*m).sum())\n",
    "    print('cost : ',c/len(x))"
   ]
  },
  {
   "cell_type": "code",
   "execution_count": 7,
   "metadata": {},
   "outputs": [
    {
     "name": "stdout",
     "output_type": "stream",
     "text": [
      "Predicted array :  [476.73161166 449.01592492 458.75018426 427.97968766 473.76076021]\n",
      "True array :  [482.26 446.94 452.56 433.44 480.38]\n"
     ]
    }
   ],
   "source": [
    "print(\"Predicted array : \",predict(x[:5],m))\n",
    "print(\"True array : \",y[:5])"
   ]
  }
 ],
 "metadata": {
  "kernelspec": {
   "display_name": "Python 3",
   "language": "python",
   "name": "python3"
  },
  "language_info": {
   "codemirror_mode": {
    "name": "ipython",
    "version": 3
   },
   "file_extension": ".py",
   "mimetype": "text/x-python",
   "name": "python",
   "nbconvert_exporter": "python",
   "pygments_lexer": "ipython3",
   "version": "3.7.6"
  }
 },
 "nbformat": 4,
 "nbformat_minor": 4
}
