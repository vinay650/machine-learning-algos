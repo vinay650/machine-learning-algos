{
 "cells": [
  {
   "cell_type": "code",
   "execution_count": 1,
   "metadata": {},
   "outputs": [],
   "source": [
    "import numpy as np\n",
    "import pandas as pd\n",
    "from sklearn.preprocessing import StandardScaler"
   ]
  },
  {
   "cell_type": "code",
   "execution_count": 2,
   "metadata": {},
   "outputs": [],
   "source": [
    "def prepare(x_train):\n",
    "    x_train['intercept']=1\n",
    "    scaler=StandardScaler()\n",
    "    scaler.fit(x_train)\n",
    "    x_train=scaler.transform(x_train)\n",
    "    x_train[:,-1]=1\n",
    "    return x_train"
   ]
  },
  {
   "cell_type": "code",
   "execution_count": 3,
   "metadata": {},
   "outputs": [],
   "source": [
    "def slope(x,y,j,m,L1_penalty):\n",
    "    c=0\n",
    "    n=len(x)\n",
    "    for i in range(n):\n",
    "        pred=0\n",
    "        for k in range(len(x[0])):\n",
    "            pred=pred+m[k]*x[i,k]\n",
    "        c=c+(y[i]-pred)*2*-1*x[i][j]\n",
    "    c=(c+L1_penalty*(m.sum()))/n\n",
    "    return c"
   ]
  },
  {
   "cell_type": "code",
   "execution_count": 4,
   "metadata": {},
   "outputs": [],
   "source": [
    "def predict(x,m):\n",
    "    yp=[]\n",
    "    n=len(x)\n",
    "    for i in range(n):\n",
    "            r=0\n",
    "            for k in range(len(m)):\n",
    "                r=r+m[k]*x[i,k]\n",
    "            yp.append(r)\n",
    "    return np.array(yp)"
   ]
  },
  {
   "cell_type": "code",
   "execution_count": 5,
   "metadata": {},
   "outputs": [],
   "source": [
    "data=pd.read_csv('C:/Users/Amit/Downloads/0000000000002419_training_ccpp_x_y_train.csv')\n",
    "x=data.iloc[:,:4]\n",
    "y=np.array(data.iloc[:,4])\n",
    "x=prepare(x)"
   ]
  },
  {
   "cell_type": "code",
   "execution_count": 6,
   "metadata": {},
   "outputs": [
    {
     "name": "stdout",
     "output_type": "stream",
     "text": [
      "Enter learning rate: 0.2\n",
      "Enter epochs: 25\n",
      "Enter regularisation factor: 0.5\n",
      "cost :  10.62874847485292\n",
      "cost :  4.0693489968131065\n",
      "cost :  1.58564851179828\n",
      "cost :  0.6470504308296671\n",
      "cost :  0.2875501126255944\n",
      "cost :  0.1460601975208265\n",
      "cost :  0.08804100895879069\n",
      "cost :  0.06293634771362434\n",
      "cost :  0.051380751529118786\n",
      "cost :  0.045722309182125456\n",
      "cost :  0.042800674668888906\n",
      "cost :  0.04123438785899506\n",
      "cost :  0.04037918620432862\n",
      "cost :  0.039914390773694734\n",
      "cost :  0.039670893159148866\n",
      "cost :  0.03955533401804259\n",
      "cost :  0.03951443172795509\n",
      "cost :  0.039517084917565226\n",
      "cost :  0.039544874062982\n",
      "cost :  0.039586793910857586\n",
      "cost :  0.039636238208577944\n",
      "cost :  0.03968923612487385\n",
      "cost :  0.039743406008254836\n",
      "cost :  0.03979732888295075\n",
      "cost :  0.03985017091051216\n"
     ]
    }
   ],
   "source": [
    "m  = np.zeros(len(x[0]))\n",
    "learning_rate= float(input(\"Enter learning rate: \"))\n",
    "epochs=int(input(\"Enter epochs: \"))\n",
    "L1_penalty=float(input(\"Enter regularisation factor: \"))\n",
    "\n",
    "for epoch in range(epochs):\n",
    "    for i in range(m.size):\n",
    "        m[i]=m[i]-learning_rate*slope(x,y,i,m,L1_penalty)\n",
    "    for i in range(len(x)):\n",
    "            r=0\n",
    "            c=0\n",
    "            for k in range(len(m)):\n",
    "                r=r+m[k]*x[i,k]\n",
    "            c=c+(y[i]-r)**2 + L1_penalty*(m.sum())\n",
    "    print('cost : ',c/len(x))"
   ]
  },
  {
   "cell_type": "code",
   "execution_count": 7,
   "metadata": {},
   "outputs": [
    {
     "name": "stdout",
     "output_type": "stream",
     "text": [
      "Predicted array :  [478.58757274 450.56099871 460.57655845 429.23884724 475.51397323]\n",
      "True array :  [482.26 446.94 452.56 433.44 480.38]\n"
     ]
    }
   ],
   "source": [
    "print(\"Predicted array : \",predict(x[:5],m))\n",
    "print(\"True array : \",y[:5])"
   ]
  }
 ],
 "metadata": {
  "kernelspec": {
   "display_name": "Python 3",
   "language": "python",
   "name": "python3"
  },
  "language_info": {
   "codemirror_mode": {
    "name": "ipython",
    "version": 3
   },
   "file_extension": ".py",
   "mimetype": "text/x-python",
   "name": "python",
   "nbconvert_exporter": "python",
   "pygments_lexer": "ipython3",
   "version": "3.7.6"
  }
 },
 "nbformat": 4,
 "nbformat_minor": 4
}
